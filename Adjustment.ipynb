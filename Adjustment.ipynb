{
 "cells": [
  {
   "cell_type": "code",
   "execution_count": 1,
   "id": "969db516-2de3-4f9e-8421-e29cb35d4ed6",
   "metadata": {},
   "outputs": [],
   "source": [
    "import pandas as pd\n",
    "fit_B = pd.read_csv(\"data/refer_B.csv\")\n",
    "fit_V = pd.read_csv(\"data/refer_V.csv\")"
   ]
  },
  {
   "cell_type": "code",
   "execution_count": 2,
   "id": "e68d2cdf-aba3-4901-9cc3-112c27485b33",
   "metadata": {},
   "outputs": [],
   "source": [
    "merge = pd.merge(fit_B, fit_V, on=['StarTag',\"RA\",\"DEC\",\"raw_x\",\"raw_y\",\"Bmag\",\"Vmag\"], suffixes=('_B', '_V'))"
   ]
  },
  {
   "cell_type": "code",
   "execution_count": 3,
   "id": "7771f0dc-af75-4524-9428-2d29823e565b",
   "metadata": {},
   "outputs": [
    {
     "data": {
      "text/html": [
       "<div>\n",
       "<style scoped>\n",
       "    .dataframe tbody tr th:only-of-type {\n",
       "        vertical-align: middle;\n",
       "    }\n",
       "\n",
       "    .dataframe tbody tr th {\n",
       "        vertical-align: top;\n",
       "    }\n",
       "\n",
       "    .dataframe thead th {\n",
       "        text-align: right;\n",
       "    }\n",
       "</style>\n",
       "<table border=\"1\" class=\"dataframe\">\n",
       "  <thead>\n",
       "    <tr style=\"text-align: right;\">\n",
       "      <th></th>\n",
       "      <th>Unnamed: 0_B</th>\n",
       "      <th>StarTag</th>\n",
       "      <th>RA</th>\n",
       "      <th>DEC</th>\n",
       "      <th>raw_x</th>\n",
       "      <th>raw_y</th>\n",
       "      <th>Bmag</th>\n",
       "      <th>Vmag</th>\n",
       "      <th>Unnamed: 0.1_B</th>\n",
       "      <th>id_B</th>\n",
       "      <th>...</th>\n",
       "      <th>xcentroid_V</th>\n",
       "      <th>ycentroid_V</th>\n",
       "      <th>sharpness_V</th>\n",
       "      <th>roundness1_V</th>\n",
       "      <th>roundness2_V</th>\n",
       "      <th>npix_V</th>\n",
       "      <th>sky_V</th>\n",
       "      <th>peak_V</th>\n",
       "      <th>flux_V</th>\n",
       "      <th>mag_V</th>\n",
       "    </tr>\n",
       "  </thead>\n",
       "  <tbody>\n",
       "    <tr>\n",
       "      <th>0</th>\n",
       "      <td>894</td>\n",
       "      <td>RightTop</td>\n",
       "      <td>13:41:45.9732</td>\n",
       "      <td>28:27:16.700</td>\n",
       "      <td>2113.06</td>\n",
       "      <td>1930.32</td>\n",
       "      <td>11.000</td>\n",
       "      <td>9.800</td>\n",
       "      <td>894</td>\n",
       "      <td>895</td>\n",
       "      <td>...</td>\n",
       "      <td>2110.639166</td>\n",
       "      <td>1929.390303</td>\n",
       "      <td>0.375628</td>\n",
       "      <td>-0.021937</td>\n",
       "      <td>-0.020276</td>\n",
       "      <td>25</td>\n",
       "      <td>0.0</td>\n",
       "      <td>44758.931226</td>\n",
       "      <td>61.179057</td>\n",
       "      <td>-4.466507</td>\n",
       "    </tr>\n",
       "    <tr>\n",
       "      <th>1</th>\n",
       "      <td>1523</td>\n",
       "      <td>LeftBottom</td>\n",
       "      <td>13:42:43.7230</td>\n",
       "      <td>28:15:53.329</td>\n",
       "      <td>879.56</td>\n",
       "      <td>817.40</td>\n",
       "      <td>12.857</td>\n",
       "      <td>12.772</td>\n",
       "      <td>283</td>\n",
       "      <td>284</td>\n",
       "      <td>...</td>\n",
       "      <td>877.860102</td>\n",
       "      <td>817.273622</td>\n",
       "      <td>0.407605</td>\n",
       "      <td>-0.028799</td>\n",
       "      <td>0.024847</td>\n",
       "      <td>25</td>\n",
       "      <td>0.0</td>\n",
       "      <td>3114.325626</td>\n",
       "      <td>4.431437</td>\n",
       "      <td>-1.616362</td>\n",
       "    </tr>\n",
       "    <tr>\n",
       "      <th>2</th>\n",
       "      <td>2642</td>\n",
       "      <td>RightBottom</td>\n",
       "      <td>13:41:35.465</td>\n",
       "      <td>28:12:11.848</td>\n",
       "      <td>2345.84</td>\n",
       "      <td>460.32</td>\n",
       "      <td>12.147</td>\n",
       "      <td>11.501</td>\n",
       "      <td>162</td>\n",
       "      <td>163</td>\n",
       "      <td>...</td>\n",
       "      <td>2345.514747</td>\n",
       "      <td>459.378079</td>\n",
       "      <td>0.373416</td>\n",
       "      <td>-0.094632</td>\n",
       "      <td>-0.231750</td>\n",
       "      <td>25</td>\n",
       "      <td>0.0</td>\n",
       "      <td>10024.730707</td>\n",
       "      <td>15.129854</td>\n",
       "      <td>-2.949587</td>\n",
       "    </tr>\n",
       "    <tr>\n",
       "      <th>3</th>\n",
       "      <td>4750</td>\n",
       "      <td>LeftTop</td>\n",
       "      <td>13:42:28.5595</td>\n",
       "      <td>28:31:58.361</td>\n",
       "      <td>1198.76</td>\n",
       "      <td>2383.96</td>\n",
       "      <td>11.000</td>\n",
       "      <td>10.400</td>\n",
       "      <td>1030</td>\n",
       "      <td>1031</td>\n",
       "      <td>...</td>\n",
       "      <td>1197.206875</td>\n",
       "      <td>2383.826130</td>\n",
       "      <td>0.393408</td>\n",
       "      <td>-0.053235</td>\n",
       "      <td>-0.040598</td>\n",
       "      <td>25</td>\n",
       "      <td>0.0</td>\n",
       "      <td>23777.804674</td>\n",
       "      <td>35.159812</td>\n",
       "      <td>-3.865116</td>\n",
       "    </tr>\n",
       "    <tr>\n",
       "      <th>4</th>\n",
       "      <td>5430</td>\n",
       "      <td>Center</td>\n",
       "      <td>13:42:12.1238</td>\n",
       "      <td>28:21:21.825</td>\n",
       "      <td>1554.07</td>\n",
       "      <td>1351.17</td>\n",
       "      <td>12.140</td>\n",
       "      <td>22.579</td>\n",
       "      <td>470</td>\n",
       "      <td>471</td>\n",
       "      <td>...</td>\n",
       "      <td>1553.289848</td>\n",
       "      <td>1349.011027</td>\n",
       "      <td>0.369772</td>\n",
       "      <td>0.096134</td>\n",
       "      <td>0.288298</td>\n",
       "      <td>25</td>\n",
       "      <td>0.0</td>\n",
       "      <td>2981.145939</td>\n",
       "      <td>4.247378</td>\n",
       "      <td>-1.570302</td>\n",
       "    </tr>\n",
       "  </tbody>\n",
       "</table>\n",
       "<p>5 rows × 35 columns</p>\n",
       "</div>"
      ],
      "text/plain": [
       "   Unnamed: 0_B      StarTag             RA           DEC    raw_x    raw_y  \\\n",
       "0           894     RightTop  13:41:45.9732  28:27:16.700  2113.06  1930.32   \n",
       "1          1523   LeftBottom  13:42:43.7230  28:15:53.329   879.56   817.40   \n",
       "2          2642  RightBottom   13:41:35.465  28:12:11.848  2345.84   460.32   \n",
       "3          4750      LeftTop  13:42:28.5595  28:31:58.361  1198.76  2383.96   \n",
       "4          5430       Center  13:42:12.1238  28:21:21.825  1554.07  1351.17   \n",
       "\n",
       "     Bmag    Vmag  Unnamed: 0.1_B  id_B  ...  xcentroid_V  ycentroid_V  \\\n",
       "0  11.000   9.800             894   895  ...  2110.639166  1929.390303   \n",
       "1  12.857  12.772             283   284  ...   877.860102   817.273622   \n",
       "2  12.147  11.501             162   163  ...  2345.514747   459.378079   \n",
       "3  11.000  10.400            1030  1031  ...  1197.206875  2383.826130   \n",
       "4  12.140  22.579             470   471  ...  1553.289848  1349.011027   \n",
       "\n",
       "   sharpness_V  roundness1_V  roundness2_V  npix_V  sky_V        peak_V  \\\n",
       "0     0.375628     -0.021937     -0.020276      25    0.0  44758.931226   \n",
       "1     0.407605     -0.028799      0.024847      25    0.0   3114.325626   \n",
       "2     0.373416     -0.094632     -0.231750      25    0.0  10024.730707   \n",
       "3     0.393408     -0.053235     -0.040598      25    0.0  23777.804674   \n",
       "4     0.369772      0.096134      0.288298      25    0.0   2981.145939   \n",
       "\n",
       "      flux_V     mag_V  \n",
       "0  61.179057 -4.466507  \n",
       "1   4.431437 -1.616362  \n",
       "2  15.129854 -2.949587  \n",
       "3  35.159812 -3.865116  \n",
       "4   4.247378 -1.570302  \n",
       "\n",
       "[5 rows x 35 columns]"
      ]
     },
     "execution_count": 3,
     "metadata": {},
     "output_type": "execute_result"
    }
   ],
   "source": [
    "merge"
   ]
  },
  {
   "cell_type": "code",
   "execution_count": 6,
   "id": "db503f25-a2d9-42f6-92d8-0e7038071eb4",
   "metadata": {},
   "outputs": [
    {
     "ename": "SyntaxError",
     "evalue": "invalid syntax (93003533.py, line 1)",
     "output_type": "error",
     "traceback": [
      "\u001b[0;36m  File \u001b[0;32m\"/tmp/ipykernel_94/93003533.py\"\u001b[0;36m, line \u001b[0;32m1\u001b[0m\n\u001b[0;31m    merge[merge['starTag']=\"Center\"]['Vmag'] = 13.038\u001b[0m\n\u001b[0m                          ^\u001b[0m\n\u001b[0;31mSyntaxError\u001b[0m\u001b[0;31m:\u001b[0m invalid syntax\n"
     ]
    }
   ],
   "source": [
    "merge[merge['starTag']=\"Center\"]['Vmag'] = 13.038\n",
    "merge[merge['starTag']=\"Center\"]['Bmag'] = 14.285"
   ]
  },
  {
   "cell_type": "code",
   "execution_count": 7,
   "id": "786dc945-97e0-4248-ac24-682ba8f67b03",
   "metadata": {},
   "outputs": [
    {
     "ename": "SyntaxError",
     "evalue": "invalid syntax (2279701113.py, line 1)",
     "output_type": "error",
     "traceback": [
      "\u001b[0;36m  File \u001b[0;32m\"/tmp/ipykernel_94/2279701113.py\"\u001b[0;36m, line \u001b[0;32m1\u001b[0m\n\u001b[0;31m    merge[merge['starTag']=\"Center\"]\u001b[0m\n\u001b[0m                          ^\u001b[0m\n\u001b[0;31mSyntaxError\u001b[0m\u001b[0;31m:\u001b[0m invalid syntax\n"
     ]
    }
   ],
   "source": [
    "merge[merge['starTag']=\"Center\"] "
   ]
  },
  {
   "cell_type": "code",
   "execution_count": 1,
   "id": "e2aae5d1-5b12-4522-b20e-5d8b6cc8c2b1",
   "metadata": {},
   "outputs": [],
   "source": [
    "import pandas as pd\n",
    "merge = pd.read_csv(\"data/merge.txt\")"
   ]
  },
  {
   "cell_type": "code",
   "execution_count": 2,
   "id": "92b2864c-6330-44cf-bc0d-877512d7e93e",
   "metadata": {},
   "outputs": [
    {
     "data": {
      "image/png": "[encoded data removed]",
      "text/plain": [
       "<Figure size 432x288 with 1 Axes>"
      ]
     },
     "metadata": {
      "needs_background": "light"
     },
     "output_type": "display_data"
    }
   ],
   "source": [
    "import matplotlib.pyplot as plt\n",
    "import numpy as np\n",
    "\n",
    "z = np.polyfit(x=merge[\"mag_B\"], y=merge[\"Bmag\"], deg=1)\n",
    "p = np.poly1d(z)\n",
    "line = p(merge[\"mag_B\"])\n",
    "\n",
    "  \n",
    "plt.ylim(8,15)\n",
    "# plotting the points \n",
    "plt.plot(merge[\"mag_B\"], merge[\"Bmag\"], '.')\n",
    "plt.plot(merge[\"mag_B\"], line, '-')\n",
    "plt.legend([\"Reference star\",f'Fitline:{p}'])\n",
    "\n",
    "plt.xlabel('Dectected BMag')\n",
    "plt.ylabel('Reference BMag')\n",
    "plt.title('Adjustment of B magnitude')\n",
    "plt.savefig(\"fig1\")\n",
    "plt.show()\n",
    "  \n",
    "# function to show the plot\n",
    "plt.show()"
   ]
  },
  {
   "cell_type": "code",
   "execution_count": 16,
   "id": "4c59c2a1-a8ac-4b53-85ca-33e7ed6157e5",
   "metadata": {},
   "outputs": [
    {
     "data": {
      "text/plain": [
       "poly1d([ 1.04546063, 14.53487934])"
      ]
     },
     "execution_count": 16,
     "metadata": {},
     "output_type": "execute_result"
    }
   ],
   "source": [
    "p"
   ]
  },
  {
   "cell_type": "code",
   "execution_count": 3,
   "id": "ad48208b-12d0-4652-8a60-22598016f29e",
   "metadata": {},
   "outputs": [
    {
     "data": {
      "image/png": "[encoded data removed]",
      "text/plain": [
       "<Figure size 432x288 with 1 Axes>"
      ]
     },
     "metadata": {
      "needs_background": "light"
     },
     "output_type": "display_data"
    }
   ],
   "source": [
    "import matplotlib.pyplot as plt\n",
    "import numpy as np\n",
    "\n",
    "z = np.polyfit(x=merge[\"mag_V\"], y=merge[\"Vmag\"], deg=1)\n",
    "p = np.poly1d(z)\n",
    "line = p(merge[\"mag_V\"])\n",
    "\n",
    "  \n",
    "#plt.ylim(8,15)\n",
    "# plotting the points \n",
    "plt.plot(merge[\"mag_V\"], merge[\"Vmag\"], '.')\n",
    "plt.plot(merge[\"mag_V\"], line, '-')\n",
    "plt.legend([\"Reference star\",f'Fitline: {p}'])\n",
    "\n",
    "plt.xlabel('Dectected VMag')\n",
    "plt.ylabel('Reference VMag')\n",
    "plt.title('Adjustment of V magnitude')\n",
    "plt.savefig(\"fig2\")\n",
    "plt.show()\n",
    "  \n",
    "# function to show the plot\n",
    "plt.show()"
   ]
  },
  {
   "cell_type": "code",
   "execution_count": 19,
   "id": "aa4efd60-d64c-46db-9413-ce79c3a2c6fa",
   "metadata": {},
   "outputs": [
    {
     "data": {
      "text/plain": [
       "14.395774767739237"
      ]
     },
     "execution_count": 19,
     "metadata": {},
     "output_type": "execute_result"
    }
   ],
   "source": [
    "np.mean(merge['Vmag'] - merge['mag_V'])"
   ]
  },
  {
   "cell_type": "code",
   "execution_count": 79,
   "id": "48ba2417-a0a0-47d5-9bc4-532d9d663a7a",
   "metadata": {},
   "outputs": [
    {
     "data": {
      "text/plain": [
       "poly1d([ 2.94375906, 21.92838694])"
      ]
     },
     "execution_count": 79,
     "metadata": {},
     "output_type": "execute_result"
    }
   ],
   "source": [
    "p"
   ]
  },
  {
   "cell_type": "code",
   "execution_count": 4,
   "id": "ef7126b1-2450-4a16-a84c-20d2e85178a6",
   "metadata": {},
   "outputs": [
    {
     "data": {
      "image/png": "[encoded data removed]",
      "text/plain": [
       "<Figure size 432x288 with 1 Axes>"
      ]
     },
     "metadata": {
      "needs_background": "light"
     },
     "output_type": "display_data"
    }
   ],
   "source": [
    "import matplotlib.pyplot as plt\n",
    "import numpy as np\n",
    "\n",
    "z = np.polyfit(x=merge[\"xcentroid_B\"], y=merge[\"xcentroid_V\"], deg=1)\n",
    "p = np.poly1d(z)\n",
    "\n",
    "\n",
    "plt.plot(merge[\"xcentroid_B\"], merge[\"xcentroid_V\"], '.')\n",
    "plt.plot(merge[\"xcentroid_B\"], merge[\"xcentroid_B\"] + 7.964721994132151, '-y')\n",
    "\n",
    "\n",
    "plt.xlabel('x on B dection')\n",
    "plt.ylabel('x on V dection')\n",
    "\n",
    "plt.title('Adjustment of x location in B band')\n",
    "plt.legend([\"Reference star\",\"Fitline: x + 7.96472\"])\n",
    "plt.savefig(\"fig3\")\n",
    "\n",
    "plt.show()\n",
    "  \n",
    "# function to show the plot\n",
    "plt.show()"
   ]
  },
  {
   "cell_type": "code",
   "execution_count": 62,
   "id": "b8072d48-b8d7-4575-ac20-c50a9ed281f3",
   "metadata": {},
   "outputs": [
    {
     "data": {
      "text/plain": [
       "-7.964721994132151"
      ]
     },
     "execution_count": 62,
     "metadata": {},
     "output_type": "execute_result"
    }
   ],
   "source": [
    "np.mean(merge[\"xcentroid_B\"] - merge[\"xcentroid_V\"])"
   ]
  },
  {
   "cell_type": "code",
   "execution_count": 5,
   "id": "ee74f56e-0814-4ac8-bad4-c98a4d8259cb",
   "metadata": {},
   "outputs": [
    {
     "data": {
      "image/png": "[encoded data removed]",
      "text/plain": [
       "<Figure size 432x288 with 1 Axes>"
      ]
     },
     "metadata": {
      "needs_background": "light"
     },
     "output_type": "display_data"
    }
   ],
   "source": [
    "import matplotlib.pyplot as plt\n",
    "import numpy as np\n",
    "\n",
    "z = np.polyfit(x=merge[\"ycentroid_B\"], y=merge[\"ycentroid_V\"], deg=1)\n",
    "p = np.poly1d(z)\n",
    "\n",
    "plt.plot(merge[\"ycentroid_B\"], merge[\"ycentroid_V\"], '.')\n",
    "plt.plot(merge[\"ycentroid_B\"], merge[\"ycentroid_V\"] - 2.2810863239019907, '-y')\n",
    "\n",
    "\n",
    "plt.xlabel('y on B dection')\n",
    "plt.ylabel('y on V dection')\n",
    "plt.legend([\"Reference star\",\"Fitline: x - 2.28108\"])\n",
    "plt.title('Adjustment of y location in B band')\n",
    "\n",
    "plt.savefig(\"fig4\")\n",
    "plt.show()\n",
    "  \n",
    "# function to show the plot\n",
    "plt.show()"
   ]
  },
  {
   "cell_type": "code",
   "execution_count": 68,
   "id": "309f5071-b9ad-4553-b9e6-e3e1cba74cdf",
   "metadata": {},
   "outputs": [
    {
     "data": {
      "text/plain": [
       "2.2810863239019907"
      ]
     },
     "execution_count": 68,
     "metadata": {},
     "output_type": "execute_result"
    }
   ],
   "source": [
    "np.mean(merge[\"ycentroid_B\"] - merge[\"ycentroid_V\"])"
   ]
  },
  {
   "cell_type": "code",
   "execution_count": 20,
   "id": "346c05fc-7cbb-436e-822a-2f0ccd9b3066",
   "metadata": {},
   "outputs": [],
   "source": [
    "Vtable = pd.read_csv('data/Vtable_Source.csv')\n",
    "Btable = pd.read_csv('data/Btable_Source.csv')"
   ]
  },
  {
   "cell_type": "code",
   "execution_count": 21,
   "id": "dd5b0d97-8a7d-49c2-ae68-6e3085663c65",
   "metadata": {},
   "outputs": [],
   "source": [
    "Btable [\"xcentroid\"] = Btable[\"xcentroid\"] + 7.964721994132151\n",
    "Btable [\"ycentroid\"] = Btable[\"ycentroid\"] - 2.2810863239019907"
   ]
  },
  {
   "cell_type": "code",
   "execution_count": null,
   "id": "d430ecbf-2816-44db-9995-125d93b5e8f0",
   "metadata": {},
   "outputs": [],
   "source": [
    "#1.04546063, 14.53487934\n",
    "#1.08803784, 14.65051884"
   ]
  },
  {
   "cell_type": "code",
   "execution_count": 22,
   "id": "25daf13f-33a7-450a-b0e3-c90265e17f80",
   "metadata": {},
   "outputs": [],
   "source": [
    "Btable[\"mag\"] = Btable[\"mag\"]* 1.04546063 + 14.53487934\n",
    "Vtable[\"mag\"] = Vtable[\"mag\"] *1.08803784 + 14.65051884"
   ]
  },
  {
   "cell_type": "code",
   "execution_count": 24,
   "id": "a342d8ba-b985-4af6-ac78-40d15d5f6f9d",
   "metadata": {},
   "outputs": [
    {
     "data": {
      "text/html": [
       "<div>\n",
       "<style scoped>\n",
       "    .dataframe tbody tr th:only-of-type {\n",
       "        vertical-align: middle;\n",
       "    }\n",
       "\n",
       "    .dataframe tbody tr th {\n",
       "        vertical-align: top;\n",
       "    }\n",
       "\n",
       "    .dataframe thead th {\n",
       "        text-align: right;\n",
       "    }\n",
       "</style>\n",
       "<table border=\"1\" class=\"dataframe\">\n",
       "  <thead>\n",
       "    <tr style=\"text-align: right;\">\n",
       "      <th></th>\n",
       "      <th>Unnamed: 0</th>\n",
       "      <th>id</th>\n",
       "      <th>xcentroid</th>\n",
       "      <th>ycentroid</th>\n",
       "      <th>sharpness</th>\n",
       "      <th>roundness1</th>\n",
       "      <th>roundness2</th>\n",
       "      <th>npix</th>\n",
       "      <th>sky</th>\n",
       "      <th>peak</th>\n",
       "      <th>flux</th>\n",
       "      <th>mag</th>\n",
       "    </tr>\n",
       "  </thead>\n",
       "  <tbody>\n",
       "    <tr>\n",
       "      <th>0</th>\n",
       "      <td>0</td>\n",
       "      <td>1</td>\n",
       "      <td>21.002756</td>\n",
       "      <td>0.620500</td>\n",
       "      <td>0.791488</td>\n",
       "      <td>-0.376853</td>\n",
       "      <td>-0.548601</td>\n",
       "      <td>25</td>\n",
       "      <td>0.0</td>\n",
       "      <td>301.633617</td>\n",
       "      <td>1.727666</td>\n",
       "      <td>14.004606</td>\n",
       "    </tr>\n",
       "    <tr>\n",
       "      <th>1</th>\n",
       "      <td>1</td>\n",
       "      <td>2</td>\n",
       "      <td>38.241919</td>\n",
       "      <td>0.732045</td>\n",
       "      <td>0.747388</td>\n",
       "      <td>-0.079008</td>\n",
       "      <td>-0.617443</td>\n",
       "      <td>25</td>\n",
       "      <td>0.0</td>\n",
       "      <td>251.389189</td>\n",
       "      <td>1.342446</td>\n",
       "      <td>14.302627</td>\n",
       "    </tr>\n",
       "    <tr>\n",
       "      <th>2</th>\n",
       "      <td>2</td>\n",
       "      <td>3</td>\n",
       "      <td>51.013667</td>\n",
       "      <td>0.691893</td>\n",
       "      <td>0.619264</td>\n",
       "      <td>0.223140</td>\n",
       "      <td>-0.300389</td>\n",
       "      <td>25</td>\n",
       "      <td>0.0</td>\n",
       "      <td>235.111266</td>\n",
       "      <td>1.407768</td>\n",
       "      <td>14.246500</td>\n",
       "    </tr>\n",
       "    <tr>\n",
       "      <th>3</th>\n",
       "      <td>3</td>\n",
       "      <td>4</td>\n",
       "      <td>218.923702</td>\n",
       "      <td>0.030619</td>\n",
       "      <td>0.238365</td>\n",
       "      <td>0.147541</td>\n",
       "      <td>-0.426111</td>\n",
       "      <td>25</td>\n",
       "      <td>0.0</td>\n",
       "      <td>143.692287</td>\n",
       "      <td>1.119231</td>\n",
       "      <td>14.517453</td>\n",
       "    </tr>\n",
       "    <tr>\n",
       "      <th>4</th>\n",
       "      <td>4</td>\n",
       "      <td>5</td>\n",
       "      <td>472.022245</td>\n",
       "      <td>0.264790</td>\n",
       "      <td>0.642032</td>\n",
       "      <td>0.177453</td>\n",
       "      <td>-0.087960</td>\n",
       "      <td>25</td>\n",
       "      <td>0.0</td>\n",
       "      <td>181.694268</td>\n",
       "      <td>1.348260</td>\n",
       "      <td>14.297522</td>\n",
       "    </tr>\n",
       "    <tr>\n",
       "      <th>...</th>\n",
       "      <td>...</td>\n",
       "      <td>...</td>\n",
       "      <td>...</td>\n",
       "      <td>...</td>\n",
       "      <td>...</td>\n",
       "      <td>...</td>\n",
       "      <td>...</td>\n",
       "      <td>...</td>\n",
       "      <td>...</td>\n",
       "      <td>...</td>\n",
       "      <td>...</td>\n",
       "      <td>...</td>\n",
       "    </tr>\n",
       "    <tr>\n",
       "      <th>1489</th>\n",
       "      <td>1489</td>\n",
       "      <td>1490</td>\n",
       "      <td>2834.968654</td>\n",
       "      <td>3049.287874</td>\n",
       "      <td>0.713262</td>\n",
       "      <td>0.391319</td>\n",
       "      <td>0.251351</td>\n",
       "      <td>25</td>\n",
       "      <td>0.0</td>\n",
       "      <td>148.620473</td>\n",
       "      <td>1.285665</td>\n",
       "      <td>14.353680</td>\n",
       "    </tr>\n",
       "    <tr>\n",
       "      <th>1490</th>\n",
       "      <td>1490</td>\n",
       "      <td>1491</td>\n",
       "      <td>3013.091104</td>\n",
       "      <td>3050.212140</td>\n",
       "      <td>0.686435</td>\n",
       "      <td>-0.001924</td>\n",
       "      <td>-0.164120</td>\n",
       "      <td>25</td>\n",
       "      <td>0.0</td>\n",
       "      <td>751.523064</td>\n",
       "      <td>1.171419</td>\n",
       "      <td>14.463615</td>\n",
       "    </tr>\n",
       "    <tr>\n",
       "      <th>1491</th>\n",
       "      <td>1491</td>\n",
       "      <td>1492</td>\n",
       "      <td>2990.914565</td>\n",
       "      <td>3051.804628</td>\n",
       "      <td>0.974157</td>\n",
       "      <td>-0.178853</td>\n",
       "      <td>0.062558</td>\n",
       "      <td>25</td>\n",
       "      <td>0.0</td>\n",
       "      <td>180.217582</td>\n",
       "      <td>1.323550</td>\n",
       "      <td>14.319373</td>\n",
       "    </tr>\n",
       "    <tr>\n",
       "      <th>1492</th>\n",
       "      <td>1492</td>\n",
       "      <td>1493</td>\n",
       "      <td>513.492487</td>\n",
       "      <td>3053.755440</td>\n",
       "      <td>0.553895</td>\n",
       "      <td>-0.802456</td>\n",
       "      <td>-0.145762</td>\n",
       "      <td>25</td>\n",
       "      <td>0.0</td>\n",
       "      <td>325.002842</td>\n",
       "      <td>2.584973</td>\n",
       "      <td>13.528599</td>\n",
       "    </tr>\n",
       "    <tr>\n",
       "      <th>1493</th>\n",
       "      <td>1493</td>\n",
       "      <td>1494</td>\n",
       "      <td>3013.273571</td>\n",
       "      <td>3051.773755</td>\n",
       "      <td>0.289388</td>\n",
       "      <td>-0.586058</td>\n",
       "      <td>-0.810945</td>\n",
       "      <td>25</td>\n",
       "      <td>0.0</td>\n",
       "      <td>519.862815</td>\n",
       "      <td>1.576866</td>\n",
       "      <td>14.112499</td>\n",
       "    </tr>\n",
       "  </tbody>\n",
       "</table>\n",
       "<p>1494 rows × 12 columns</p>\n",
       "</div>"
      ],
      "text/plain": [
       "      Unnamed: 0    id    xcentroid    ycentroid  sharpness  roundness1  \\\n",
       "0              0     1    21.002756     0.620500   0.791488   -0.376853   \n",
       "1              1     2    38.241919     0.732045   0.747388   -0.079008   \n",
       "2              2     3    51.013667     0.691893   0.619264    0.223140   \n",
       "3              3     4   218.923702     0.030619   0.238365    0.147541   \n",
       "4              4     5   472.022245     0.264790   0.642032    0.177453   \n",
       "...          ...   ...          ...          ...        ...         ...   \n",
       "1489        1489  1490  2834.968654  3049.287874   0.713262    0.391319   \n",
       "1490        1490  1491  3013.091104  3050.212140   0.686435   -0.001924   \n",
       "1491        1491  1492  2990.914565  3051.804628   0.974157   -0.178853   \n",
       "1492        1492  1493   513.492487  3053.755440   0.553895   -0.802456   \n",
       "1493        1493  1494  3013.273571  3051.773755   0.289388   -0.586058   \n",
       "\n",
       "      roundness2  npix  sky        peak      flux        mag  \n",
       "0      -0.548601    25  0.0  301.633617  1.727666  14.004606  \n",
       "1      -0.617443    25  0.0  251.389189  1.342446  14.302627  \n",
       "2      -0.300389    25  0.0  235.111266  1.407768  14.246500  \n",
       "3      -0.426111    25  0.0  143.692287  1.119231  14.517453  \n",
       "4      -0.087960    25  0.0  181.694268  1.348260  14.297522  \n",
       "...          ...   ...  ...         ...       ...        ...  \n",
       "1489    0.251351    25  0.0  148.620473  1.285665  14.353680  \n",
       "1490   -0.164120    25  0.0  751.523064  1.171419  14.463615  \n",
       "1491    0.062558    25  0.0  180.217582  1.323550  14.319373  \n",
       "1492   -0.145762    25  0.0  325.002842  2.584973  13.528599  \n",
       "1493   -0.810945    25  0.0  519.862815  1.576866  14.112499  \n",
       "\n",
       "[1494 rows x 12 columns]"
      ]
     },
     "execution_count": 24,
     "metadata": {},
     "output_type": "execute_result"
    }
   ],
   "source": [
    "Vtable"
   ]
  },
  {
   "cell_type": "code",
   "execution_count": 25,
   "id": "6604b9da-7c2d-4e37-9677-91ae4792d14f",
   "metadata": {},
   "outputs": [],
   "source": [
    "Vtable.to_csv(\"data/Vtable_adj.csv\")\n",
    "Btable.to_csv(\"data/Btable_adj.csv\")"
   ]
  },
  {
   "cell_type": "code",
   "execution_count": null,
   "id": "cb14a9a7-2130-4038-92db-2153a5b11fb3",
   "metadata": {},
   "outputs": [],
   "source": []
  }
 ],
 "metadata": {
  "kernelspec": {
   "display_name": "Python 3 (ipykernel)",
   "language": "python",
   "name": "python3"
  },
  "language_info": {
   "codemirror_mode": {
    "name": "ipython",
    "version": 3
   },
   "file_extension": ".py",
   "mimetype": "text/x-python",
   "name": "python",
   "nbconvert_exporter": "python",
   "pygments_lexer": "ipython3",
   "version": "3.9.7"
  }
 },
 "nbformat": 4,
 "nbformat_minor": 5
}
