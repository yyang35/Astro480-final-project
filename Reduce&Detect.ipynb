{
 "cells": [
  {
   "cell_type": "code",
   "execution_count": 1,
   "id": "0b03c48d-3eba-4906-ad7d-1ba679444619",
   "metadata": {},
   "outputs": [],
   "source": [
    "from pathlib import Path\n",
    "import os\n",
    "\n",
    "from astropy.nddata import CCDData\n",
    "from astropy.stats import mad_std\n",
    "\n",
    "import ccdproc as ccdp\n",
    "import matplotlib.pyplot as plt\n",
    "import numpy as np"
   ]
  },
  {
   "cell_type": "code",
   "execution_count": 2,
   "id": "5ef3db25-f416-4151-ad4a-2b815b86b6c7",
   "metadata": {},
   "outputs": [],
   "source": [
    "calibrated_path = Path('../realObs/fits')\n",
    "reduced_images = ccdp.ImageFileCollection(calibrated_path)"
   ]
  },
  {
   "cell_type": "code",
   "execution_count": 3,
   "id": "3e1064b6-871b-4d5e-83bf-bdc747a21b05",
   "metadata": {},
   "outputs": [],
   "source": [
    "calibrated_biases = reduced_images.files_filtered(imagetyp='bias', include_path=True)"
   ]
  },
  {
   "cell_type": "code",
   "execution_count": 4,
   "id": "9a01adc2-33d4-4575-bf38-8d96e5df6d94",
   "metadata": {},
   "outputs": [
    {
     "name": "stdout",
     "output_type": "stream",
     "text": [
      "980.2483487666298\n",
      "980.691451777082\n",
      "980.841387277303\n",
      "980.8333446802186\n",
      "980.9310584122103\n",
      "980.9133434929123\n",
      "981.1701345732715\n",
      "981.1638845287449\n",
      "980.9278026670588\n",
      "981.0549351275265\n",
      "981.065337209171\n"
     ]
    }
   ],
   "source": [
    "from astropy.io import fits\n",
    "from astropy.stats import sigma_clipped_stats\n",
    "from photutils.datasets import load_star_image\n",
    "\n",
    "sum = 0\n",
    "for bias in calibrated_biases:\n",
    "    hdu = fits.open(bias)\n",
    "    data = hdu[0].data \n",
    "    mean, median, std = sigma_clipped_stats(data, sigma=3.0)  \n",
    "    print(mean)\n",
    "    sum += mean\n",
    "avg = sum / len(calibrated_biases)"
   ]
  },
  {
   "cell_type": "code",
   "execution_count": 5,
   "id": "c63a74e5-9a79-4af9-92aa-3c8e8dd1c36b",
   "metadata": {},
   "outputs": [
    {
     "data": {
      "text/plain": [
       "980.894638955648"
      ]
     },
     "execution_count": 5,
     "metadata": {},
     "output_type": "execute_result"
    }
   ],
   "source": [
    "avg"
   ]
  },
  {
   "cell_type": "code",
   "execution_count": 6,
   "id": "647e2005-ca10-4fdd-bce5-9bc59befb13d",
   "metadata": {},
   "outputs": [],
   "source": [
    "from astropy.io import fits\n",
    "from astropy.wcs import WCS\n",
    "from astropy.utils.data import get_pkg_data_filename\n",
    "from astropy.stats import sigma_clipped_stats\n",
    "from photutils.datasets import load_star_image \n",
    "from photutils.detection import DAOStarFinder\n",
    "from photutils.detection import StarFinder\n",
    "\n",
    "import os\n",
    "import pandas as pd\n",
    "import glob\n",
    "import numpy as np\n",
    "from astropy import units as u"
   ]
  },
  {
   "cell_type": "code",
   "execution_count": 7,
   "id": "8ae64016-4b54-40a3-a139-71e18ddb1b7b",
   "metadata": {},
   "outputs": [],
   "source": [
    "f = sorted(glob.glob(os.path.join(\"../realObs/fits/*flat_V*.fits\")))\n",
    "sum  = arr = [[0]*3056]*3056\n",
    "for i in f:\n",
    "    #print(i)\n",
    "    hdu = fits.open(i)\n",
    "    hdu=hdu[0]\n",
    "    data = hdu.data   \n",
    "    sum += hdu.data\n",
    "v_flat = sum/8\n",
    "mean, median, std = sigma_clipped_stats(v_flat) \n",
    "v_flat = v_flat / mean"
   ]
  },
  {
   "cell_type": "code",
   "execution_count": 8,
   "id": "bdda4d7b-8871-4dab-a4ef-1417e5502e5e",
   "metadata": {},
   "outputs": [],
   "source": [
    "f = sorted(glob.glob(os.path.join(\"../realObs/fits/*flat_B*.fits\")))\n",
    "sum  = arr = [[0]*3056]*3056\n",
    "for i in f:\n",
    "    #print(i)\n",
    "    hdu = fits.open(i)\n",
    "    hdu=hdu[0]\n",
    "    data = hdu.data   \n",
    "    sum += hdu.data\n",
    "b_flat = sum/ 8\n",
    "mean, median, std = sigma_clipped_stats(b_flat) \n",
    "b_flat = b_flat / mean"
   ]
  },
  {
   "cell_type": "code",
   "execution_count": 9,
   "id": "3850e597-1cc4-4553-81d1-e2410b758459",
   "metadata": {},
   "outputs": [],
   "source": [
    "hdu = fits.open('../realObs/fits/NGC5272_V_new.fits')\n",
    "hdu=hdu[0]\n",
    "data = hdu.data / v_flat  \n",
    "data = data - 980.894638955648\n",
    "mean, median1, std = sigma_clipped_stats(data, sigma=3.0)  \n",
    "daofind = DAOStarFinder(fwhm=3.0, threshold=3.*std)   \n",
    "sources = daofind(data -median1) \n",
    "for col in sources.colnames:  \n",
    "    if col not in ('id', 'npix'):\n",
    "        sources[col].info.format = '%.2f'  # for consistent table output"
   ]
  },
  {
   "cell_type": "code",
   "execution_count": 10,
   "id": "586aadfd-8b0e-4fdf-889b-46113ed594c2",
   "metadata": {},
   "outputs": [],
   "source": [
    "hdu = fits.open('../realObs/fits/NGC5272_B.fits')\n",
    "hdu=hdu[0]\n",
    "data = hdu.data/b_flat \n",
    "data = data - 980.894638955648\n",
    "mean, median2, std = sigma_clipped_stats(data, sigma=3.0)  \n",
    "daofind = DAOStarFinder(fwhm=3.0, threshold=3.*std)  \n",
    "sources2 = daofind(data - median2) \n",
    "for col in sources2.colnames:  \n",
    "    if col not in ('id', 'npix'):\n",
    "        sources2[col].info.format = '%.2f'  # for consistent table output"
   ]
  },
  {
   "cell_type": "code",
   "execution_count": 11,
   "id": "a26c5b7d-c8db-42b1-a2ef-f381335741a8",
   "metadata": {},
   "outputs": [],
   "source": [
    "Vtable = sources.to_pandas()\n",
    "Btable = sources2.to_pandas()"
   ]
  },
  {
   "cell_type": "code",
   "execution_count": 14,
   "id": "4991c4e4-1522-49ef-b99c-edb8acbead29",
   "metadata": {},
   "outputs": [],
   "source": [
    "Vtable.to_csv(\"data/Vtable_Source.csv\")\n",
    "Btable.to_csv(\"data/Btable_Source.csv\")"
   ]
  },
  {
   "cell_type": "code",
   "execution_count": null,
   "id": "cea1cc5e-4936-493e-b018-0c82e77d8d87",
   "metadata": {},
   "outputs": [],
   "source": []
  }
 ],
 "metadata": {
  "kernelspec": {
   "display_name": "Python 3 (ipykernel)",
   "language": "python",
   "name": "python3"
  },
  "language_info": {
   "codemirror_mode": {
    "name": "ipython",
    "version": 3
   },
   "file_extension": ".py",
   "mimetype": "text/x-python",
   "name": "python",
   "nbconvert_exporter": "python",
   "pygments_lexer": "ipython3",
   "version": "3.9.7"
  }
 },
 "nbformat": 4,
 "nbformat_minor": 5
}
