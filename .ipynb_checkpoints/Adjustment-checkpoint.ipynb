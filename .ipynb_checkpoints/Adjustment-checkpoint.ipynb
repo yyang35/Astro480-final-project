{
 "cells": [
  {
   "cell_type": "code",
   "execution_count": 2,
   "id": "969db516-2de3-4f9e-8421-e29cb35d4ed6",
   "metadata": {},
   "outputs": [],
   "source": [
    "import pandas as pd\n",
    "fit_B = pd.read_csv(\"data/refer_B.csv\")\n",
    "fit_V = pd.read_csv(\"data/refer_V.csv\")"
   ]
  },
  {
   "cell_type": "code",
   "execution_count": 3,
   "id": "e68d2cdf-aba3-4901-9cc3-112c27485b33",
   "metadata": {},
   "outputs": [],
   "source": [
    "merge = pd.merge(fit_B, fit_V, on=['StarTag',\"RA\",\"DEC\",\"raw_x\",\"raw_y\",\"Bmag\",\"Vmag\"], suffixes=('_B', '_V'))"
   ]
  },
  {
   "cell_type": "code",
   "execution_count": 4,
   "id": "7771f0dc-af75-4524-9428-2d29823e565b",
   "metadata": {},
   "outputs": [
    {
     "data": {
      "text/html": [
       "<div>\n",
       "<style scoped>\n",
       "    .dataframe tbody tr th:only-of-type {\n",
       "        vertical-align: middle;\n",
       "    }\n",
       "\n",
       "    .dataframe tbody tr th {\n",
       "        vertical-align: top;\n",
       "    }\n",
       "\n",
       "    .dataframe thead th {\n",
       "        text-align: right;\n",
       "    }\n",
       "</style>\n",
       "<table border=\"1\" class=\"dataframe\">\n",
       "  <thead>\n",
       "    <tr style=\"text-align: right;\">\n",
       "      <th></th>\n",
       "      <th>Unnamed: 0_B</th>\n",
       "      <th>StarTag</th>\n",
       "      <th>RA</th>\n",
       "      <th>DEC</th>\n",
       "      <th>raw_x</th>\n",
       "      <th>raw_y</th>\n",
       "      <th>Bmag</th>\n",
       "      <th>Vmag</th>\n",
       "      <th>Unnamed: 0.1_B</th>\n",
       "      <th>id_B</th>\n",
       "      <th>...</th>\n",
       "      <th>xcentroid_V</th>\n",
       "      <th>ycentroid_V</th>\n",
       "      <th>sharpness_V</th>\n",
       "      <th>roundness1_V</th>\n",
       "      <th>roundness2_V</th>\n",
       "      <th>npix_V</th>\n",
       "      <th>sky_V</th>\n",
       "      <th>peak_V</th>\n",
       "      <th>flux_V</th>\n",
       "      <th>mag_V</th>\n",
       "    </tr>\n",
       "  </thead>\n",
       "  <tbody>\n",
       "    <tr>\n",
       "      <th>0</th>\n",
       "      <td>894</td>\n",
       "      <td>RightTop</td>\n",
       "      <td>13:41:45.9732</td>\n",
       "      <td>28:27:16.700</td>\n",
       "      <td>2113.06</td>\n",
       "      <td>1930.32</td>\n",
       "      <td>11.000</td>\n",
       "      <td>9.800</td>\n",
       "      <td>894</td>\n",
       "      <td>895</td>\n",
       "      <td>...</td>\n",
       "      <td>2110.639166</td>\n",
       "      <td>1929.390303</td>\n",
       "      <td>0.375628</td>\n",
       "      <td>-0.021937</td>\n",
       "      <td>-0.020276</td>\n",
       "      <td>25</td>\n",
       "      <td>0.0</td>\n",
       "      <td>44758.931226</td>\n",
       "      <td>61.179057</td>\n",
       "      <td>-4.466507</td>\n",
       "    </tr>\n",
       "    <tr>\n",
       "      <th>1</th>\n",
       "      <td>1523</td>\n",
       "      <td>LeftBottom</td>\n",
       "      <td>13:42:43.7230</td>\n",
       "      <td>28:15:53.329</td>\n",
       "      <td>879.56</td>\n",
       "      <td>817.40</td>\n",
       "      <td>12.857</td>\n",
       "      <td>12.772</td>\n",
       "      <td>283</td>\n",
       "      <td>284</td>\n",
       "      <td>...</td>\n",
       "      <td>877.860102</td>\n",
       "      <td>817.273622</td>\n",
       "      <td>0.407605</td>\n",
       "      <td>-0.028799</td>\n",
       "      <td>0.024847</td>\n",
       "      <td>25</td>\n",
       "      <td>0.0</td>\n",
       "      <td>3114.325626</td>\n",
       "      <td>4.431437</td>\n",
       "      <td>-1.616362</td>\n",
       "    </tr>\n",
       "    <tr>\n",
       "      <th>2</th>\n",
       "      <td>2642</td>\n",
       "      <td>RightBottom</td>\n",
       "      <td>13:41:35.465</td>\n",
       "      <td>28:12:11.848</td>\n",
       "      <td>2345.84</td>\n",
       "      <td>460.32</td>\n",
       "      <td>12.147</td>\n",
       "      <td>11.501</td>\n",
       "      <td>162</td>\n",
       "      <td>163</td>\n",
       "      <td>...</td>\n",
       "      <td>2345.514747</td>\n",
       "      <td>459.378079</td>\n",
       "      <td>0.373416</td>\n",
       "      <td>-0.094632</td>\n",
       "      <td>-0.231750</td>\n",
       "      <td>25</td>\n",
       "      <td>0.0</td>\n",
       "      <td>10024.730707</td>\n",
       "      <td>15.129854</td>\n",
       "      <td>-2.949587</td>\n",
       "    </tr>\n",
       "    <tr>\n",
       "      <th>3</th>\n",
       "      <td>4750</td>\n",
       "      <td>LeftTop</td>\n",
       "      <td>13:42:28.5595</td>\n",
       "      <td>28:31:58.361</td>\n",
       "      <td>1198.76</td>\n",
       "      <td>2383.96</td>\n",
       "      <td>11.000</td>\n",
       "      <td>10.400</td>\n",
       "      <td>1030</td>\n",
       "      <td>1031</td>\n",
       "      <td>...</td>\n",
       "      <td>1197.206875</td>\n",
       "      <td>2383.826130</td>\n",
       "      <td>0.393408</td>\n",
       "      <td>-0.053235</td>\n",
       "      <td>-0.040598</td>\n",
       "      <td>25</td>\n",
       "      <td>0.0</td>\n",
       "      <td>23777.804674</td>\n",
       "      <td>35.159812</td>\n",
       "      <td>-3.865116</td>\n",
       "    </tr>\n",
       "    <tr>\n",
       "      <th>4</th>\n",
       "      <td>5430</td>\n",
       "      <td>Center</td>\n",
       "      <td>13:42:12.1238</td>\n",
       "      <td>28:21:21.825</td>\n",
       "      <td>1554.07</td>\n",
       "      <td>1351.17</td>\n",
       "      <td>12.140</td>\n",
       "      <td>22.579</td>\n",
       "      <td>470</td>\n",
       "      <td>471</td>\n",
       "      <td>...</td>\n",
       "      <td>1553.289848</td>\n",
       "      <td>1349.011027</td>\n",
       "      <td>0.369772</td>\n",
       "      <td>0.096134</td>\n",
       "      <td>0.288298</td>\n",
       "      <td>25</td>\n",
       "      <td>0.0</td>\n",
       "      <td>2981.145939</td>\n",
       "      <td>4.247378</td>\n",
       "      <td>-1.570302</td>\n",
       "    </tr>\n",
       "  </tbody>\n",
       "</table>\n",
       "<p>5 rows × 35 columns</p>\n",
       "</div>"
      ],
      "text/plain": [
       "   Unnamed: 0_B      StarTag             RA           DEC    raw_x    raw_y  \\\n",
       "0           894     RightTop  13:41:45.9732  28:27:16.700  2113.06  1930.32   \n",
       "1          1523   LeftBottom  13:42:43.7230  28:15:53.329   879.56   817.40   \n",
       "2          2642  RightBottom   13:41:35.465  28:12:11.848  2345.84   460.32   \n",
       "3          4750      LeftTop  13:42:28.5595  28:31:58.361  1198.76  2383.96   \n",
       "4          5430       Center  13:42:12.1238  28:21:21.825  1554.07  1351.17   \n",
       "\n",
       "     Bmag    Vmag  Unnamed: 0.1_B  id_B  ...  xcentroid_V  ycentroid_V  \\\n",
       "0  11.000   9.800             894   895  ...  2110.639166  1929.390303   \n",
       "1  12.857  12.772             283   284  ...   877.860102   817.273622   \n",
       "2  12.147  11.501             162   163  ...  2345.514747   459.378079   \n",
       "3  11.000  10.400            1030  1031  ...  1197.206875  2383.826130   \n",
       "4  12.140  22.579             470   471  ...  1553.289848  1349.011027   \n",
       "\n",
       "   sharpness_V  roundness1_V  roundness2_V  npix_V  sky_V        peak_V  \\\n",
       "0     0.375628     -0.021937     -0.020276      25    0.0  44758.931226   \n",
       "1     0.407605     -0.028799      0.024847      25    0.0   3114.325626   \n",
       "2     0.373416     -0.094632     -0.231750      25    0.0  10024.730707   \n",
       "3     0.393408     -0.053235     -0.040598      25    0.0  23777.804674   \n",
       "4     0.369772      0.096134      0.288298      25    0.0   2981.145939   \n",
       "\n",
       "      flux_V     mag_V  \n",
       "0  61.179057 -4.466507  \n",
       "1   4.431437 -1.616362  \n",
       "2  15.129854 -2.949587  \n",
       "3  35.159812 -3.865116  \n",
       "4   4.247378 -1.570302  \n",
       "\n",
       "[5 rows x 35 columns]"
      ]
     },
     "execution_count": 4,
     "metadata": {},
     "output_type": "execute_result"
    }
   ],
   "source": [
    "merge"
   ]
  },
  {
   "cell_type": "code",
   "execution_count": 80,
   "id": "92b2864c-6330-44cf-bc0d-877512d7e93e",
   "metadata": {},
   "outputs": [
    {
     "data": {
      "image/png": "[encoded data removed]",
      "text/plain": [
       "<Figure size 432x288 with 1 Axes>"
      ]
     },
     "metadata": {
      "needs_background": "light"
     },
     "output_type": "display_data"
    }
   ],
   "source": [
    "import matplotlib.pyplot as plt\n",
    "import numpy as np\n",
    "\n",
    "z = np.polyfit(x=merge[\"mag_B\"], y=merge[\"Bmag\"], deg=1)\n",
    "p = np.poly1d(z)\n",
    "line = p(merge[\"mag_B\"])\n",
    "\n",
    "  \n",
    "plt.ylim(8,15)\n",
    "# plotting the points \n",
    "plt.plot(merge[\"mag_B\"], merge[\"Bmag\"], '.')\n",
    "plt.plot(merge[\"mag_B\"], merge[\"mag_B\"] + 14.3, '-')\n",
    "plt.legend([\"Reference star\",f'Fitline: x+14.3'])\n",
    "\n",
    "plt.xlabel('Dectected BMag')\n",
    "plt.ylabel('Reference BMag')\n",
    "plt.title('Adjustment of B magnitude')\n",
    "\n",
    "plt.show()\n",
    "  \n",
    "# function to show the plot\n",
    "plt.show()"
   ]
  },
  {
   "cell_type": "code",
   "execution_count": 81,
   "id": "4c59c2a1-a8ac-4b53-85ca-33e7ed6157e5",
   "metadata": {},
   "outputs": [
    {
     "data": {
      "text/plain": [
       "poly1d([ 0.50459159, 12.92783239])"
      ]
     },
     "execution_count": 81,
     "metadata": {},
     "output_type": "execute_result"
    }
   ],
   "source": [
    "p"
   ]
  },
  {
   "cell_type": "code",
   "execution_count": 73,
   "id": "ad48208b-12d0-4652-8a60-22598016f29e",
   "metadata": {},
   "outputs": [
    {
     "data": {
      "image/png": "[encoded data removed]",
      "text/plain": [
       "<Figure size 432x288 with 1 Axes>"
      ]
     },
     "metadata": {
      "needs_background": "light"
     },
     "output_type": "display_data"
    }
   ],
   "source": [
    "import matplotlib.pyplot as plt\n",
    "import numpy as np\n",
    "\n",
    "z = np.polyfit(x=merge[\"mag_V\"], y=merge[\"Vmag\"], deg=1)\n",
    "p = np.poly1d(z)\n",
    "line = p(merge[\"mag_V\"])\n",
    "\n",
    "  \n",
    "#plt.ylim(8,15)\n",
    "# plotting the points \n",
    "plt.plot(merge[\"mag_V\"], merge[\"Vmag\"], '.')\n",
    "plt.plot(merge[\"mag_V\"], merge[\"mag_V\"] + 14.3, '-')\n",
    "plt.legend([\"Reference star\",f'Fitline: x + 14.3'])\n",
    "\n",
    "plt.xlabel('Dectected VMag')\n",
    "plt.ylabel('Reference VMag')\n",
    "plt.title('Adjustment of V magnitude')\n",
    "\n",
    "plt.show()\n",
    "  \n",
    "# function to show the plot\n",
    "plt.show()"
   ]
  },
  {
   "cell_type": "code",
   "execution_count": 79,
   "id": "48ba2417-a0a0-47d5-9bc4-532d9d663a7a",
   "metadata": {},
   "outputs": [
    {
     "data": {
      "text/plain": [
       "poly1d([ 2.94375906, 21.92838694])"
      ]
     },
     "execution_count": 79,
     "metadata": {},
     "output_type": "execute_result"
    }
   ],
   "source": [
    "p"
   ]
  },
  {
   "cell_type": "code",
   "execution_count": 8,
   "id": "ef7126b1-2450-4a16-a84c-20d2e85178a6",
   "metadata": {},
   "outputs": [
    {
     "data": {
      "image/png": "[encoded data removed]",
      "text/plain": [
       "<Figure size 432x288 with 1 Axes>"
      ]
     },
     "metadata": {
      "needs_background": "light"
     },
     "output_type": "display_data"
    }
   ],
   "source": [
    "import matplotlib.pyplot as plt\n",
    "import numpy as np\n",
    "\n",
    "z = np.polyfit(x=merge[\"xcentroid_B\"], y=merge[\"xcentroid_V\"], deg=1)\n",
    "p = np.poly1d(z)\n",
    "\n",
    "plt.plot(merge[\"xcentroid_B\"], merge[\"xcentroid_B\"] + 7.964721994132151, '-y')\n",
    "plt.plot(merge[\"xcentroid_B\"], merge[\"xcentroid_V\"], '.')\n",
    "\n",
    "plt.xlabel('x on B dection')\n",
    "plt.ylabel('x on V dection')\n",
    "\n",
    "plt.title('Adjustment of x location in B band')\n",
    "plt.legend([\"Reference star\",\"Fitline: x + 7.96472\"])\n",
    "\n",
    "plt.show()\n",
    "  \n",
    "# function to show the plot\n",
    "plt.show()"
   ]
  },
  {
   "cell_type": "code",
   "execution_count": 62,
   "id": "b8072d48-b8d7-4575-ac20-c50a9ed281f3",
   "metadata": {},
   "outputs": [
    {
     "data": {
      "text/plain": [
       "-7.964721994132151"
      ]
     },
     "execution_count": 62,
     "metadata": {},
     "output_type": "execute_result"
    }
   ],
   "source": [
    "np.mean(merge[\"xcentroid_B\"] - merge[\"xcentroid_V\"])"
   ]
  },
  {
   "cell_type": "code",
   "execution_count": 6,
   "id": "ee74f56e-0814-4ac8-bad4-c98a4d8259cb",
   "metadata": {},
   "outputs": [
    {
     "data": {
      "image/png": "[encoded data removed]",
      "text/plain": [
       "<Figure size 432x288 with 1 Axes>"
      ]
     },
     "metadata": {
      "needs_background": "light"
     },
     "output_type": "display_data"
    }
   ],
   "source": [
    "import matplotlib.pyplot as plt\n",
    "import numpy as np\n",
    "\n",
    "z = np.polyfit(x=merge[\"ycentroid_B\"], y=merge[\"ycentroid_V\"], deg=1)\n",
    "p = np.poly1d(z)\n",
    "\n",
    "plt.plot(merge[\"ycentroid_B\"], merge[\"ycentroid_V\"] - 2.2810863239019907, '-y')\n",
    "plt.plot(merge[\"ycentroid_B\"], merge[\"ycentroid_V\"], '.')\n",
    "\n",
    "plt.xlabel('y on B dection')\n",
    "plt.ylabel('y on V dection')\n",
    "plt.legend([\"Reference star\",\"Fitline: x - 2.28108\"])\n",
    "plt.title('Adjustment of y location in B band')\n",
    "\n",
    "plt.show()\n",
    "  \n",
    "# function to show the plot\n",
    "plt.show()"
   ]
  },
  {
   "cell_type": "code",
   "execution_count": 68,
   "id": "309f5071-b9ad-4553-b9e6-e3e1cba74cdf",
   "metadata": {},
   "outputs": [
    {
     "data": {
      "text/plain": [
       "2.2810863239019907"
      ]
     },
     "execution_count": 68,
     "metadata": {},
     "output_type": "execute_result"
    }
   ],
   "source": [
    "np.mean(merge[\"ycentroid_B\"] - merge[\"ycentroid_V\"])"
   ]
  },
  {
   "cell_type": "code",
   "execution_count": 74,
   "id": "346c05fc-7cbb-436e-822a-2f0ccd9b3066",
   "metadata": {},
   "outputs": [],
   "source": [
    "Vtable = pd.read_csv('data/Vtable_Source.csv')\n",
    "Btable = pd.read_csv('data/Btable_Source.csv')"
   ]
  },
  {
   "cell_type": "code",
   "execution_count": 75,
   "id": "dd5b0d97-8a7d-49c2-ae68-6e3085663c65",
   "metadata": {},
   "outputs": [],
   "source": [
    "Btable [\"xcentroid\"] = Btable[\"xcentroid\"] + 7.964721994132151\n",
    "Btable [\"ycentroid\"] = Btable[\"ycentroid\"] - 2.2810863239019907"
   ]
  },
  {
   "cell_type": "code",
   "execution_count": 77,
   "id": "25daf13f-33a7-450a-b0e3-c90265e17f80",
   "metadata": {},
   "outputs": [],
   "source": [
    "Btable[\"mag\"] = Btable[\"mag\"] + 14.3\n",
    "Vtable[\"mag\"] = Vtable[\"mag\"] + 14.3"
   ]
  },
  {
   "cell_type": "code",
   "execution_count": 76,
   "id": "a342d8ba-b985-4af6-ac78-40d15d5f6f9d",
   "metadata": {},
   "outputs": [
    {
     "data": {
      "text/html": [
       "<div>\n",
       "<style scoped>\n",
       "    .dataframe tbody tr th:only-of-type {\n",
       "        vertical-align: middle;\n",
       "    }\n",
       "\n",
       "    .dataframe tbody tr th {\n",
       "        vertical-align: top;\n",
       "    }\n",
       "\n",
       "    .dataframe thead th {\n",
       "        text-align: right;\n",
       "    }\n",
       "</style>\n",
       "<table border=\"1\" class=\"dataframe\">\n",
       "  <thead>\n",
       "    <tr style=\"text-align: right;\">\n",
       "      <th></th>\n",
       "      <th>Unnamed: 0</th>\n",
       "      <th>id</th>\n",
       "      <th>xcentroid</th>\n",
       "      <th>ycentroid</th>\n",
       "      <th>sharpness</th>\n",
       "      <th>roundness1</th>\n",
       "      <th>roundness2</th>\n",
       "      <th>npix</th>\n",
       "      <th>sky</th>\n",
       "      <th>peak</th>\n",
       "      <th>flux</th>\n",
       "      <th>mag</th>\n",
       "    </tr>\n",
       "  </thead>\n",
       "  <tbody>\n",
       "    <tr>\n",
       "      <th>0</th>\n",
       "      <td>0</td>\n",
       "      <td>1</td>\n",
       "      <td>9.790258</td>\n",
       "      <td>-1.833574</td>\n",
       "      <td>0.848615</td>\n",
       "      <td>-0.324881</td>\n",
       "      <td>-0.936338</td>\n",
       "      <td>25</td>\n",
       "      <td>0.0</td>\n",
       "      <td>188.811994</td>\n",
       "      <td>1.072711</td>\n",
       "      <td>-0.076207</td>\n",
       "    </tr>\n",
       "    <tr>\n",
       "      <th>1</th>\n",
       "      <td>1</td>\n",
       "      <td>2</td>\n",
       "      <td>28.992833</td>\n",
       "      <td>-1.766016</td>\n",
       "      <td>0.880581</td>\n",
       "      <td>0.419083</td>\n",
       "      <td>-0.230024</td>\n",
       "      <td>25</td>\n",
       "      <td>0.0</td>\n",
       "      <td>271.286685</td>\n",
       "      <td>1.463377</td>\n",
       "      <td>-0.413391</td>\n",
       "    </tr>\n",
       "    <tr>\n",
       "      <th>2</th>\n",
       "      <td>2</td>\n",
       "      <td>3</td>\n",
       "      <td>46.270064</td>\n",
       "      <td>-1.500161</td>\n",
       "      <td>0.920956</td>\n",
       "      <td>0.625556</td>\n",
       "      <td>-0.483638</td>\n",
       "      <td>25</td>\n",
       "      <td>0.0</td>\n",
       "      <td>257.702376</td>\n",
       "      <td>1.194993</td>\n",
       "      <td>-0.193414</td>\n",
       "    </tr>\n",
       "    <tr>\n",
       "      <th>3</th>\n",
       "      <td>3</td>\n",
       "      <td>4</td>\n",
       "      <td>58.756854</td>\n",
       "      <td>-1.478086</td>\n",
       "      <td>0.723554</td>\n",
       "      <td>-0.270494</td>\n",
       "      <td>-0.656898</td>\n",
       "      <td>25</td>\n",
       "      <td>0.0</td>\n",
       "      <td>241.413454</td>\n",
       "      <td>1.263010</td>\n",
       "      <td>-0.253517</td>\n",
       "    </tr>\n",
       "    <tr>\n",
       "      <th>4</th>\n",
       "      <td>4</td>\n",
       "      <td>5</td>\n",
       "      <td>493.934585</td>\n",
       "      <td>-2.055275</td>\n",
       "      <td>0.712587</td>\n",
       "      <td>-0.048450</td>\n",
       "      <td>-0.203861</td>\n",
       "      <td>25</td>\n",
       "      <td>0.0</td>\n",
       "      <td>149.598503</td>\n",
       "      <td>1.053426</td>\n",
       "      <td>-0.056510</td>\n",
       "    </tr>\n",
       "    <tr>\n",
       "      <th>...</th>\n",
       "      <td>...</td>\n",
       "      <td>...</td>\n",
       "      <td>...</td>\n",
       "      <td>...</td>\n",
       "      <td>...</td>\n",
       "      <td>...</td>\n",
       "      <td>...</td>\n",
       "      <td>...</td>\n",
       "      <td>...</td>\n",
       "      <td>...</td>\n",
       "      <td>...</td>\n",
       "      <td>...</td>\n",
       "    </tr>\n",
       "    <tr>\n",
       "      <th>1235</th>\n",
       "      <td>1235</td>\n",
       "      <td>1236</td>\n",
       "      <td>3036.286225</td>\n",
       "      <td>3036.796903</td>\n",
       "      <td>0.976165</td>\n",
       "      <td>-0.183537</td>\n",
       "      <td>-0.335501</td>\n",
       "      <td>25</td>\n",
       "      <td>0.0</td>\n",
       "      <td>363.681477</td>\n",
       "      <td>2.273584</td>\n",
       "      <td>-0.891778</td>\n",
       "    </tr>\n",
       "    <tr>\n",
       "      <th>1236</th>\n",
       "      <td>1236</td>\n",
       "      <td>1237</td>\n",
       "      <td>1666.028207</td>\n",
       "      <td>3038.461706</td>\n",
       "      <td>0.899108</td>\n",
       "      <td>-0.846046</td>\n",
       "      <td>-0.556588</td>\n",
       "      <td>25</td>\n",
       "      <td>0.0</td>\n",
       "      <td>119.568876</td>\n",
       "      <td>1.091333</td>\n",
       "      <td>-0.094893</td>\n",
       "    </tr>\n",
       "    <tr>\n",
       "      <th>1237</th>\n",
       "      <td>1237</td>\n",
       "      <td>1238</td>\n",
       "      <td>2842.975949</td>\n",
       "      <td>3047.167802</td>\n",
       "      <td>0.832326</td>\n",
       "      <td>-0.036902</td>\n",
       "      <td>0.364784</td>\n",
       "      <td>25</td>\n",
       "      <td>0.0</td>\n",
       "      <td>161.966889</td>\n",
       "      <td>1.256313</td>\n",
       "      <td>-0.247745</td>\n",
       "    </tr>\n",
       "    <tr>\n",
       "      <th>1238</th>\n",
       "      <td>1238</td>\n",
       "      <td>1239</td>\n",
       "      <td>2865.193730</td>\n",
       "      <td>3047.513081</td>\n",
       "      <td>0.813951</td>\n",
       "      <td>-0.205153</td>\n",
       "      <td>-0.044308</td>\n",
       "      <td>25</td>\n",
       "      <td>0.0</td>\n",
       "      <td>1005.624048</td>\n",
       "      <td>7.674400</td>\n",
       "      <td>-2.212611</td>\n",
       "    </tr>\n",
       "    <tr>\n",
       "      <th>1239</th>\n",
       "      <td>1239</td>\n",
       "      <td>1240</td>\n",
       "      <td>1259.421958</td>\n",
       "      <td>3049.358376</td>\n",
       "      <td>0.703955</td>\n",
       "      <td>-0.118278</td>\n",
       "      <td>0.316871</td>\n",
       "      <td>25</td>\n",
       "      <td>0.0</td>\n",
       "      <td>165.940988</td>\n",
       "      <td>1.464159</td>\n",
       "      <td>-0.413970</td>\n",
       "    </tr>\n",
       "  </tbody>\n",
       "</table>\n",
       "<p>1240 rows × 12 columns</p>\n",
       "</div>"
      ],
      "text/plain": [
       "      Unnamed: 0    id    xcentroid    ycentroid  sharpness  roundness1  \\\n",
       "0              0     1     9.790258    -1.833574   0.848615   -0.324881   \n",
       "1              1     2    28.992833    -1.766016   0.880581    0.419083   \n",
       "2              2     3    46.270064    -1.500161   0.920956    0.625556   \n",
       "3              3     4    58.756854    -1.478086   0.723554   -0.270494   \n",
       "4              4     5   493.934585    -2.055275   0.712587   -0.048450   \n",
       "...          ...   ...          ...          ...        ...         ...   \n",
       "1235        1235  1236  3036.286225  3036.796903   0.976165   -0.183537   \n",
       "1236        1236  1237  1666.028207  3038.461706   0.899108   -0.846046   \n",
       "1237        1237  1238  2842.975949  3047.167802   0.832326   -0.036902   \n",
       "1238        1238  1239  2865.193730  3047.513081   0.813951   -0.205153   \n",
       "1239        1239  1240  1259.421958  3049.358376   0.703955   -0.118278   \n",
       "\n",
       "      roundness2  npix  sky         peak      flux       mag  \n",
       "0      -0.936338    25  0.0   188.811994  1.072711 -0.076207  \n",
       "1      -0.230024    25  0.0   271.286685  1.463377 -0.413391  \n",
       "2      -0.483638    25  0.0   257.702376  1.194993 -0.193414  \n",
       "3      -0.656898    25  0.0   241.413454  1.263010 -0.253517  \n",
       "4      -0.203861    25  0.0   149.598503  1.053426 -0.056510  \n",
       "...          ...   ...  ...          ...       ...       ...  \n",
       "1235   -0.335501    25  0.0   363.681477  2.273584 -0.891778  \n",
       "1236   -0.556588    25  0.0   119.568876  1.091333 -0.094893  \n",
       "1237    0.364784    25  0.0   161.966889  1.256313 -0.247745  \n",
       "1238   -0.044308    25  0.0  1005.624048  7.674400 -2.212611  \n",
       "1239    0.316871    25  0.0   165.940988  1.464159 -0.413970  \n",
       "\n",
       "[1240 rows x 12 columns]"
      ]
     },
     "execution_count": 76,
     "metadata": {},
     "output_type": "execute_result"
    }
   ],
   "source": [
    "Btable"
   ]
  },
  {
   "cell_type": "code",
   "execution_count": 78,
   "id": "6604b9da-7c2d-4e37-9677-91ae4792d14f",
   "metadata": {},
   "outputs": [],
   "source": [
    "Vtable.to_csv(\"data/Vtable_adj.csv\")\n",
    "Btable.to_csv(\"data/Btable_adj.csv\")"
   ]
  },
  {
   "cell_type": "code",
   "execution_count": null,
   "id": "cb14a9a7-2130-4038-92db-2153a5b11fb3",
   "metadata": {},
   "outputs": [],
   "source": []
  }
 ],
 "metadata": {
  "kernelspec": {
   "display_name": "Python 3 (ipykernel)",
   "language": "python",
   "name": "python3"
  },
  "language_info": {
   "codemirror_mode": {
    "name": "ipython",
    "version": 3
   },
   "file_extension": ".py",
   "mimetype": "text/x-python",
   "name": "python",
   "nbconvert_exporter": "python",
   "pygments_lexer": "ipython3",
   "version": "3.9.7"
  }
 },
 "nbformat": 4,
 "nbformat_minor": 5
}
